xrange = 1001
maxlimit = 1000
successCounter = 0
for a in range(1,10):
    for b in range(1,10):
        exitFlag = False
        listCycle = []
        for originalNum in range(1,xrange):
            if exitFlag: break
            x = originalNum
            ifOccuredList = []
            for i in range(maxlimit):
                if x in ifOccuredList: break
                ifOccuredList.append(x)
                if x % 2 == 0:
                    x //= 2 
                else:
                    x = a*x + b
            if i == maxlimit-1:
                exitFlag = True
            else:
                occurance = min(ifOccuredList[ifOccuredList.index(x):])
                if occurance not in listCycle:
                    listCycle.append(occurance)
        if exitFlag:
            print(f'For {a} and {b} no exit point found')
        else:
            successCounter += 1
            print(f'For {a} abd {b} cycle formed: {listCycle}')
print(f'No. of successful cycles printed: {successCounter}')


